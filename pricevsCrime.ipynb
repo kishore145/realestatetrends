{
 "cells": [
  {
   "cell_type": "markdown",
   "metadata": {},
   "source": [
    "Do price vs crime comparison"
   ]
  },
  {
   "cell_type": "code",
   "execution_count": 1,
   "metadata": {},
   "outputs": [],
   "source": [
    "# Dependencies\n",
    "import pandas as pd\n",
    "import numpy as np\n",
    "import matplotlib.pyplot as plt\n",
    "from functools import reduce\n",
    "from IPython.display import display\n",
    "from io import StringIO\n",
    "from tabulate import tabulate\n",
    "\n",
    "pd.options.display.max_columns = None"
   ]
  },
  {
   "cell_type": "code",
   "execution_count": 2,
   "metadata": {},
   "outputs": [],
   "source": [
    "# Store filepath in a variable\n",
    "crimeDataFile = \"Raw Data/Try Data/crime rate california county.csv\"\n",
    "housingPriceFile = \"Raw Data/Try Data/mean price.csv\""
   ]
  },
  {
   "cell_type": "code",
   "execution_count": 3,
   "metadata": {},
   "outputs": [],
   "source": [
    "# Read our Data file with the pandas library\n",
    "# Not every CSV requires an encoding, but be aware this can come up\n",
    "crime_data_df = pd.read_csv(crimeDataFile, encoding=\"ISO-8859-1\")\n"
   ]
  },
  {
   "cell_type": "code",
   "execution_count": 4,
   "metadata": {},
   "outputs": [
    {
     "name": "stdout",
     "output_type": "stream",
     "text": [
      "['County_name' 'State' 'crime_rate_per_100000' 'index' 'EDITION' 'PART'\n",
      " 'IDNO' 'CPOPARST' 'CPOPCRIM' 'AG_ARRST' 'AG_OFF' 'COVIND' 'INDEX'\n",
      " 'MODINDX' 'MURDER' 'RAPE' 'ROBBERY' 'AGASSLT' 'BURGLRY' 'LARCENY'\n",
      " 'MVTHEFT' 'ARSON' 'population' 'FIPS_ST' 'FIPS_CTY']\n"
     ]
    },
    {
     "data": {
      "text/html": [
       "<div>\n",
       "<style scoped>\n",
       "    .dataframe tbody tr th:only-of-type {\n",
       "        vertical-align: middle;\n",
       "    }\n",
       "\n",
       "    .dataframe tbody tr th {\n",
       "        vertical-align: top;\n",
       "    }\n",
       "\n",
       "    .dataframe thead th {\n",
       "        text-align: right;\n",
       "    }\n",
       "</style>\n",
       "<table border=\"1\" class=\"dataframe\">\n",
       "  <thead>\n",
       "    <tr style=\"text-align: right;\">\n",
       "      <th></th>\n",
       "      <th>County_name</th>\n",
       "      <th>State</th>\n",
       "      <th>crime_rate_per_100000</th>\n",
       "      <th>index</th>\n",
       "      <th>EDITION</th>\n",
       "      <th>PART</th>\n",
       "      <th>IDNO</th>\n",
       "      <th>CPOPARST</th>\n",
       "      <th>CPOPCRIM</th>\n",
       "      <th>AG_ARRST</th>\n",
       "      <th>AG_OFF</th>\n",
       "      <th>COVIND</th>\n",
       "      <th>INDEX</th>\n",
       "      <th>MODINDX</th>\n",
       "      <th>MURDER</th>\n",
       "      <th>RAPE</th>\n",
       "      <th>ROBBERY</th>\n",
       "      <th>AGASSLT</th>\n",
       "      <th>BURGLRY</th>\n",
       "      <th>LARCENY</th>\n",
       "      <th>MVTHEFT</th>\n",
       "      <th>ARSON</th>\n",
       "      <th>population</th>\n",
       "      <th>FIPS_ST</th>\n",
       "      <th>FIPS_CTY</th>\n",
       "    </tr>\n",
       "  </thead>\n",
       "  <tbody>\n",
       "    <tr>\n",
       "      <th>2</th>\n",
       "      <td>Alameda</td>\n",
       "      <td>CA</td>\n",
       "      <td>753.693574</td>\n",
       "      <td>72</td>\n",
       "      <td>1</td>\n",
       "      <td>4</td>\n",
       "      <td>188</td>\n",
       "      <td>1544062</td>\n",
       "      <td>1544062</td>\n",
       "      <td>26</td>\n",
       "      <td>22</td>\n",
       "      <td>100</td>\n",
       "      <td>11900</td>\n",
       "      <td>62130</td>\n",
       "      <td>153</td>\n",
       "      <td>477</td>\n",
       "      <td>6220</td>\n",
       "      <td>5050</td>\n",
       "      <td>13245</td>\n",
       "      <td>35841</td>\n",
       "      <td>13044</td>\n",
       "      <td>337</td>\n",
       "      <td>1578891</td>\n",
       "      <td>6</td>\n",
       "      <td>1</td>\n",
       "    </tr>\n",
       "    <tr>\n",
       "      <th>6</th>\n",
       "      <td>Alpine</td>\n",
       "      <td>CA</td>\n",
       "      <td>690.250216</td>\n",
       "      <td>99</td>\n",
       "      <td>1</td>\n",
       "      <td>4</td>\n",
       "      <td>189</td>\n",
       "      <td>1112</td>\n",
       "      <td>1112</td>\n",
       "      <td>2</td>\n",
       "      <td>2</td>\n",
       "      <td>100</td>\n",
       "      <td>8</td>\n",
       "      <td>43</td>\n",
       "      <td>0</td>\n",
       "      <td>3</td>\n",
       "      <td>0</td>\n",
       "      <td>5</td>\n",
       "      <td>18</td>\n",
       "      <td>20</td>\n",
       "      <td>5</td>\n",
       "      <td>0</td>\n",
       "      <td>1159</td>\n",
       "      <td>6</td>\n",
       "      <td>3</td>\n",
       "    </tr>\n",
       "    <tr>\n",
       "      <th>34</th>\n",
       "      <td>Amador</td>\n",
       "      <td>CA</td>\n",
       "      <td>355.979079</td>\n",
       "      <td>654</td>\n",
       "      <td>1</td>\n",
       "      <td>4</td>\n",
       "      <td>190</td>\n",
       "      <td>38305</td>\n",
       "      <td>38305</td>\n",
       "      <td>6</td>\n",
       "      <td>6</td>\n",
       "      <td>100</td>\n",
       "      <td>130</td>\n",
       "      <td>797</td>\n",
       "      <td>0</td>\n",
       "      <td>5</td>\n",
       "      <td>14</td>\n",
       "      <td>111</td>\n",
       "      <td>241</td>\n",
       "      <td>512</td>\n",
       "      <td>44</td>\n",
       "      <td>2</td>\n",
       "      <td>36519</td>\n",
       "      <td>6</td>\n",
       "      <td>5</td>\n",
       "    </tr>\n",
       "  </tbody>\n",
       "</table>\n",
       "</div>"
      ],
      "text/plain": [
       "   County_name State  crime_rate_per_100000  index  EDITION  PART  IDNO  \\\n",
       "2     Alameda     CA             753.693574     72        1     4   188   \n",
       "6      Alpine     CA             690.250216     99        1     4   189   \n",
       "34     Amador     CA             355.979079    654        1     4   190   \n",
       "\n",
       "    CPOPARST  CPOPCRIM  AG_ARRST  AG_OFF  COVIND  INDEX  MODINDX  MURDER  \\\n",
       "2    1544062   1544062        26      22     100  11900    62130     153   \n",
       "6       1112      1112         2       2     100      8       43       0   \n",
       "34     38305     38305         6       6     100    130      797       0   \n",
       "\n",
       "    RAPE  ROBBERY  AGASSLT  BURGLRY  LARCENY  MVTHEFT  ARSON  population  \\\n",
       "2    477     6220     5050    13245    35841    13044    337     1578891   \n",
       "6      3        0        5       18       20        5      0        1159   \n",
       "34     5       14      111      241      512       44      2       36519   \n",
       "\n",
       "    FIPS_ST  FIPS_CTY  \n",
       "2         6         1  \n",
       "6         6         3  \n",
       "34        6         5  "
      ]
     },
     "execution_count": 4,
     "metadata": {},
     "output_type": "execute_result"
    }
   ],
   "source": [
    "crime_data_df = crime_data_df.sort_values(by=['State','County_name'])\n",
    "crime_data_df.columns.str.strip()\n",
    "crime_data_df.columns.str.title()\n",
    "\n",
    "print(crime_data_df.columns.get_values())\n",
    "crime_data_df.head(3)\n"
   ]
  },
  {
   "cell_type": "code",
   "execution_count": 5,
   "metadata": {},
   "outputs": [],
   "source": [
    "# define a function for finding optimal location for bar height values\n",
    "def ylabelloc(yaxis):\n",
    "    return (max(yaxis)*0.03)"
   ]
  },
  {
   "cell_type": "code",
   "execution_count": 30,
   "metadata": {},
   "outputs": [
    {
     "name": "stdout",
     "output_type": "stream",
     "text": [
      "************************************************************\n",
      "**                  CRIME PROFILE                         **\n",
      "************************************************************\n"
     ]
    },
    {
     "data": {
      "text/html": [
       "<div>\n",
       "<style scoped>\n",
       "    .dataframe tbody tr th:only-of-type {\n",
       "        vertical-align: middle;\n",
       "    }\n",
       "\n",
       "    .dataframe tbody tr th {\n",
       "        vertical-align: top;\n",
       "    }\n",
       "\n",
       "    .dataframe thead th {\n",
       "        text-align: right;\n",
       "    }\n",
       "</style>\n",
       "<table border=\"1\" class=\"dataframe\">\n",
       "  <thead>\n",
       "    <tr style=\"text-align: right;\">\n",
       "      <th></th>\n",
       "      <th>State</th>\n",
       "      <th>County_name</th>\n",
       "      <th>crime_rate_per_100000</th>\n",
       "      <th>MURDER</th>\n",
       "      <th>RAPE</th>\n",
       "      <th>ROBBERY</th>\n",
       "      <th>AGASSLT</th>\n",
       "      <th>BURGLRY</th>\n",
       "      <th>LARCENY</th>\n",
       "      <th>MVTHEFT</th>\n",
       "      <th>ARSON</th>\n",
       "    </tr>\n",
       "  </thead>\n",
       "  <tbody>\n",
       "    <tr>\n",
       "      <th>0</th>\n",
       "      <td>CA</td>\n",
       "      <td>Alameda</td>\n",
       "      <td>753.693574</td>\n",
       "      <td>153</td>\n",
       "      <td>477</td>\n",
       "      <td>6220</td>\n",
       "      <td>5050</td>\n",
       "      <td>13245</td>\n",
       "      <td>35841</td>\n",
       "      <td>13044</td>\n",
       "      <td>337</td>\n",
       "    </tr>\n",
       "  </tbody>\n",
       "</table>\n",
       "</div>"
      ],
      "text/plain": [
       "  State County_name  crime_rate_per_100000  MURDER  RAPE  ROBBERY  AGASSLT  \\\n",
       "0    CA    Alameda              753.693574     153   477     6220     5050   \n",
       "\n",
       "   BURGLRY  LARCENY  MVTHEFT  ARSON  \n",
       "0    13245    35841    13044    337  "
      ]
     },
     "metadata": {},
     "output_type": "display_data"
    },
    {
     "data": {
      "image/png": "[encoded data removed]",
      "text/plain": [
       "<Figure size 432x288 with 1 Axes>"
      ]
     },
     "metadata": {},
     "output_type": "display_data"
    }
   ],
   "source": [
    "def printContyCrimeInfo(fips_st, fips_cty):\n",
    "    crime_info = crime_data_df.loc[(crime_data_df['FIPS_ST'] == fips_st) & (crime_data_df['FIPS_CTY'] == fips_cty)]\n",
    "    crime_info = crime_info[['State','County_name','crime_rate_per_100000','MURDER','RAPE','ROBBERY', 'AGASSLT', 'BURGLRY', \n",
    "                            'LARCENY','MVTHEFT', 'ARSON']]\n",
    "    crime_info.reset_index(drop = True, inplace = True)\n",
    "    \n",
    "    #print(crime_info)\n",
    "    #print(type(crime_info))\n",
    "    crime_details = {'Type of Crime': \n",
    "                     ['Murder', 'Rape', 'Robbery', 'Aggravated Assault', 'Burglary', 'Larceny', 'MV Theft', 'Arson'],\n",
    "                     'Number of Crimes': \n",
    "                     [crime_info.iat[0,3],crime_info.iat[0,4],crime_info.iat[0,5],crime_info.iat[0,6],crime_info.iat[0,7],\n",
    "                     crime_info.iat[0,8],crime_info.iat[0,9],crime_info.iat[0,10]]\n",
    "                    }\n",
    "    #print(crime_details)\n",
    "    x_axis = np.arange(len(crime_details['Type of Crime']))\n",
    "    y_axis = crime_details['Number of Crimes']\n",
    "    labels = crime_details['Type of Crime']\n",
    "    print(\"************************************************************\")\n",
    "    print(\"**                  CRIME PROFILE                         **\")\n",
    "    print(\"************************************************************\")\n",
    "    #print(f\"State : {crime_info.iat[0,1]}, County: {crime_info[0,0]}\")\n",
    "    \n",
    "    display(crime_info)\n",
    "    #print(labels)\n",
    "    \n",
    "    #set plot\n",
    "    fig, ax = plt.subplots()\n",
    "\n",
    "    ax.bar(x_axis,y_axis,color='b', alpha=0.5, align=\"center\" )\n",
    "    \n",
    "    # Tell matplotlib where we would like to place each of our x axis headers\n",
    "    tick_locations = [value for value in x_axis]\n",
    "    plt.xticks(tick_locations, labels,  rotation = 90)\n",
    "    \n",
    "    # Sets the x limits of the current chart\n",
    "    plt.xlim(-0.75, len(x_axis)-0.25)\n",
    "    # Sets the y limits of the current chart\n",
    "    plt.ylim(0, max(y_axis)+max(y_axis)*0.2)\n",
    "    \n",
    "    # Give our chart some labels and a tile\n",
    "    ax.set_title(\"Crime Profile\")\n",
    "    ax.set_xlabel(\"Type of Crime\")\n",
    "    ax.set_ylabel(\"Number of Crimes reported\")\n",
    "    plt.grid(axis = 'y')\n",
    "    \n",
    "    \n",
    "    #Loop through each bar and label the compound score against each bar\n",
    "    for i in range(0, len(x_axis)):\n",
    "        ax.text(tick_locations[i]-0.35, y_axis[i] + ylabelloc(y_axis), str(y_axis[i]), \n",
    "            color='blue', va='center', fontweight='bold')\n",
    "   \n",
    "\n",
    "    \n",
    "\n",
    "    \n",
    "printContyCrimeInfo(6,1)\n",
    "\n",
    "\n",
    "\n"
   ]
  },
  {
   "cell_type": "code",
   "execution_count": 34,
   "metadata": {},
   "outputs": [
    {
     "name": "stdout",
     "output_type": "stream",
     "text": [
      "************************************************************\n",
      "**                  CRIME PROFILE                         **\n",
      "************************************************************\n"
     ]
    },
    {
     "data": {
      "text/html": [
       "<div>\n",
       "<style scoped>\n",
       "    .dataframe tbody tr th:only-of-type {\n",
       "        vertical-align: middle;\n",
       "    }\n",
       "\n",
       "    .dataframe tbody tr th {\n",
       "        vertical-align: top;\n",
       "    }\n",
       "\n",
       "    .dataframe thead th {\n",
       "        text-align: right;\n",
       "    }\n",
       "</style>\n",
       "<table border=\"1\" class=\"dataframe\">\n",
       "  <thead>\n",
       "    <tr style=\"text-align: right;\">\n",
       "      <th></th>\n",
       "      <th>State</th>\n",
       "      <th>County_name</th>\n",
       "      <th>crime_rate_per_100000</th>\n",
       "      <th>MURDER</th>\n",
       "      <th>RAPE</th>\n",
       "      <th>ROBBERY</th>\n",
       "      <th>AGASSLT</th>\n",
       "      <th>BURGLRY</th>\n",
       "      <th>LARCENY</th>\n",
       "      <th>MVTHEFT</th>\n",
       "      <th>ARSON</th>\n",
       "    </tr>\n",
       "  </thead>\n",
       "  <tbody>\n",
       "    <tr>\n",
       "      <th>0</th>\n",
       "      <td>CA</td>\n",
       "      <td>Alameda</td>\n",
       "      <td>753.693574</td>\n",
       "      <td>153</td>\n",
       "      <td>477</td>\n",
       "      <td>6220</td>\n",
       "      <td>5050</td>\n",
       "      <td>13245</td>\n",
       "      <td>35841</td>\n",
       "      <td>13044</td>\n",
       "      <td>337</td>\n",
       "    </tr>\n",
       "  </tbody>\n",
       "</table>\n",
       "</div>"
      ],
      "text/plain": [
       "  State County_name  crime_rate_per_100000  MURDER  RAPE  ROBBERY  AGASSLT  \\\n",
       "0    CA    Alameda              753.693574     153   477     6220     5050   \n",
       "\n",
       "   BURGLRY  LARCENY  MVTHEFT  ARSON  \n",
       "0    13245    35841    13044    337  "
      ]
     },
     "metadata": {},
     "output_type": "display_data"
    },
    {
     "ename": "ValueError",
     "evalue": "Image size of 471x944430 pixels is too large. It must be less than 2^16 in each direction.",
     "output_type": "error",
     "traceback": [
      "\u001b[1;31m---------------------------------------------------------------------------\u001b[0m",
      "\u001b[1;31mValueError\u001b[0m                                Traceback (most recent call last)",
      "\u001b[1;32m~\\AppData\\Local\\conda\\conda\\envs\\python37\\lib\\site-packages\\IPython\\core\\formatters.py\u001b[0m in \u001b[0;36m__call__\u001b[1;34m(self, obj)\u001b[0m\n\u001b[0;32m    339\u001b[0m                 \u001b[1;32mpass\u001b[0m\u001b[1;33m\u001b[0m\u001b[0m\n\u001b[0;32m    340\u001b[0m             \u001b[1;32melse\u001b[0m\u001b[1;33m:\u001b[0m\u001b[1;33m\u001b[0m\u001b[0m\n\u001b[1;32m--> 341\u001b[1;33m                 \u001b[1;32mreturn\u001b[0m \u001b[0mprinter\u001b[0m\u001b[1;33m(\u001b[0m\u001b[0mobj\u001b[0m\u001b[1;33m)\u001b[0m\u001b[1;33m\u001b[0m\u001b[0m\n\u001b[0m\u001b[0;32m    342\u001b[0m             \u001b[1;31m# Finally look for special method names\u001b[0m\u001b[1;33m\u001b[0m\u001b[1;33m\u001b[0m\u001b[0m\n\u001b[0;32m    343\u001b[0m             \u001b[0mmethod\u001b[0m \u001b[1;33m=\u001b[0m \u001b[0mget_real_method\u001b[0m\u001b[1;33m(\u001b[0m\u001b[0mobj\u001b[0m\u001b[1;33m,\u001b[0m \u001b[0mself\u001b[0m\u001b[1;33m.\u001b[0m\u001b[0mprint_method\u001b[0m\u001b[1;33m)\u001b[0m\u001b[1;33m\u001b[0m\u001b[0m\n",
      "\u001b[1;32m~\\AppData\\Local\\conda\\conda\\envs\\python37\\lib\\site-packages\\IPython\\core\\pylabtools.py\u001b[0m in \u001b[0;36m<lambda>\u001b[1;34m(fig)\u001b[0m\n\u001b[0;32m    239\u001b[0m \u001b[1;33m\u001b[0m\u001b[0m\n\u001b[0;32m    240\u001b[0m     \u001b[1;32mif\u001b[0m \u001b[1;34m'png'\u001b[0m \u001b[1;32min\u001b[0m \u001b[0mformats\u001b[0m\u001b[1;33m:\u001b[0m\u001b[1;33m\u001b[0m\u001b[0m\n\u001b[1;32m--> 241\u001b[1;33m         \u001b[0mpng_formatter\u001b[0m\u001b[1;33m.\u001b[0m\u001b[0mfor_type\u001b[0m\u001b[1;33m(\u001b[0m\u001b[0mFigure\u001b[0m\u001b[1;33m,\u001b[0m \u001b[1;32mlambda\u001b[0m \u001b[0mfig\u001b[0m\u001b[1;33m:\u001b[0m \u001b[0mprint_figure\u001b[0m\u001b[1;33m(\u001b[0m\u001b[0mfig\u001b[0m\u001b[1;33m,\u001b[0m \u001b[1;34m'png'\u001b[0m\u001b[1;33m,\u001b[0m \u001b[1;33m**\u001b[0m\u001b[0mkwargs\u001b[0m\u001b[1;33m)\u001b[0m\u001b[1;33m)\u001b[0m\u001b[1;33m\u001b[0m\u001b[0m\n\u001b[0m\u001b[0;32m    242\u001b[0m     \u001b[1;32mif\u001b[0m \u001b[1;34m'retina'\u001b[0m \u001b[1;32min\u001b[0m \u001b[0mformats\u001b[0m \u001b[1;32mor\u001b[0m \u001b[1;34m'png2x'\u001b[0m \u001b[1;32min\u001b[0m \u001b[0mformats\u001b[0m\u001b[1;33m:\u001b[0m\u001b[1;33m\u001b[0m\u001b[0m\n\u001b[0;32m    243\u001b[0m         \u001b[0mpng_formatter\u001b[0m\u001b[1;33m.\u001b[0m\u001b[0mfor_type\u001b[0m\u001b[1;33m(\u001b[0m\u001b[0mFigure\u001b[0m\u001b[1;33m,\u001b[0m \u001b[1;32mlambda\u001b[0m \u001b[0mfig\u001b[0m\u001b[1;33m:\u001b[0m \u001b[0mretina_figure\u001b[0m\u001b[1;33m(\u001b[0m\u001b[0mfig\u001b[0m\u001b[1;33m,\u001b[0m \u001b[1;33m**\u001b[0m\u001b[0mkwargs\u001b[0m\u001b[1;33m)\u001b[0m\u001b[1;33m)\u001b[0m\u001b[1;33m\u001b[0m\u001b[0m\n",
      "\u001b[1;32m~\\AppData\\Local\\conda\\conda\\envs\\python37\\lib\\site-packages\\IPython\\core\\pylabtools.py\u001b[0m in \u001b[0;36mprint_figure\u001b[1;34m(fig, fmt, bbox_inches, **kwargs)\u001b[0m\n\u001b[0;32m    123\u001b[0m \u001b[1;33m\u001b[0m\u001b[0m\n\u001b[0;32m    124\u001b[0m     \u001b[0mbytes_io\u001b[0m \u001b[1;33m=\u001b[0m \u001b[0mBytesIO\u001b[0m\u001b[1;33m(\u001b[0m\u001b[1;33m)\u001b[0m\u001b[1;33m\u001b[0m\u001b[0m\n\u001b[1;32m--> 125\u001b[1;33m     \u001b[0mfig\u001b[0m\u001b[1;33m.\u001b[0m\u001b[0mcanvas\u001b[0m\u001b[1;33m.\u001b[0m\u001b[0mprint_figure\u001b[0m\u001b[1;33m(\u001b[0m\u001b[0mbytes_io\u001b[0m\u001b[1;33m,\u001b[0m \u001b[1;33m**\u001b[0m\u001b[0mkw\u001b[0m\u001b[1;33m)\u001b[0m\u001b[1;33m\u001b[0m\u001b[0m\n\u001b[0m\u001b[0;32m    126\u001b[0m     \u001b[0mdata\u001b[0m \u001b[1;33m=\u001b[0m \u001b[0mbytes_io\u001b[0m\u001b[1;33m.\u001b[0m\u001b[0mgetvalue\u001b[0m\u001b[1;33m(\u001b[0m\u001b[1;33m)\u001b[0m\u001b[1;33m\u001b[0m\u001b[0m\n\u001b[0;32m    127\u001b[0m     \u001b[1;32mif\u001b[0m \u001b[0mfmt\u001b[0m \u001b[1;33m==\u001b[0m \u001b[1;34m'svg'\u001b[0m\u001b[1;33m:\u001b[0m\u001b[1;33m\u001b[0m\u001b[0m\n",
      "\u001b[1;32m~\\AppData\\Local\\conda\\conda\\envs\\python37\\lib\\site-packages\\matplotlib\\backend_bases.py\u001b[0m in \u001b[0;36mprint_figure\u001b[1;34m(self, filename, dpi, facecolor, edgecolor, orientation, format, **kwargs)\u001b[0m\n\u001b[0;32m   2261\u001b[0m                 \u001b[0morientation\u001b[0m\u001b[1;33m=\u001b[0m\u001b[0morientation\u001b[0m\u001b[1;33m,\u001b[0m\u001b[1;33m\u001b[0m\u001b[0m\n\u001b[0;32m   2262\u001b[0m                 \u001b[0mbbox_inches_restore\u001b[0m\u001b[1;33m=\u001b[0m\u001b[0m_bbox_inches_restore\u001b[0m\u001b[1;33m,\u001b[0m\u001b[1;33m\u001b[0m\u001b[0m\n\u001b[1;32m-> 2263\u001b[1;33m                 **kwargs)\n\u001b[0m\u001b[0;32m   2264\u001b[0m         \u001b[1;32mfinally\u001b[0m\u001b[1;33m:\u001b[0m\u001b[1;33m\u001b[0m\u001b[0m\n\u001b[0;32m   2265\u001b[0m             \u001b[1;32mif\u001b[0m \u001b[0mbbox_inches\u001b[0m \u001b[1;32mand\u001b[0m \u001b[0mrestore_bbox\u001b[0m\u001b[1;33m:\u001b[0m\u001b[1;33m\u001b[0m\u001b[0m\n",
      "\u001b[1;32m~\\AppData\\Local\\conda\\conda\\envs\\python37\\lib\\site-packages\\matplotlib\\backends\\backend_agg.py\u001b[0m in \u001b[0;36mprint_png\u001b[1;34m(self, filename_or_obj, *args, **kwargs)\u001b[0m\n\u001b[0;32m    511\u001b[0m \u001b[1;33m\u001b[0m\u001b[0m\n\u001b[0;32m    512\u001b[0m     \u001b[1;32mdef\u001b[0m \u001b[0mprint_png\u001b[0m\u001b[1;33m(\u001b[0m\u001b[0mself\u001b[0m\u001b[1;33m,\u001b[0m \u001b[0mfilename_or_obj\u001b[0m\u001b[1;33m,\u001b[0m \u001b[1;33m*\u001b[0m\u001b[0margs\u001b[0m\u001b[1;33m,\u001b[0m \u001b[1;33m**\u001b[0m\u001b[0mkwargs\u001b[0m\u001b[1;33m)\u001b[0m\u001b[1;33m:\u001b[0m\u001b[1;33m\u001b[0m\u001b[0m\n\u001b[1;32m--> 513\u001b[1;33m         \u001b[0mFigureCanvasAgg\u001b[0m\u001b[1;33m.\u001b[0m\u001b[0mdraw\u001b[0m\u001b[1;33m(\u001b[0m\u001b[0mself\u001b[0m\u001b[1;33m)\u001b[0m\u001b[1;33m\u001b[0m\u001b[0m\n\u001b[0m\u001b[0;32m    514\u001b[0m         \u001b[0mrenderer\u001b[0m \u001b[1;33m=\u001b[0m \u001b[0mself\u001b[0m\u001b[1;33m.\u001b[0m\u001b[0mget_renderer\u001b[0m\u001b[1;33m(\u001b[0m\u001b[1;33m)\u001b[0m\u001b[1;33m\u001b[0m\u001b[0m\n\u001b[0;32m    515\u001b[0m         \u001b[0moriginal_dpi\u001b[0m \u001b[1;33m=\u001b[0m \u001b[0mrenderer\u001b[0m\u001b[1;33m.\u001b[0m\u001b[0mdpi\u001b[0m\u001b[1;33m\u001b[0m\u001b[0m\n",
      "\u001b[1;32m~\\AppData\\Local\\conda\\conda\\envs\\python37\\lib\\site-packages\\matplotlib\\backends\\backend_agg.py\u001b[0m in \u001b[0;36mdraw\u001b[1;34m(self)\u001b[0m\n\u001b[0;32m    423\u001b[0m         \u001b[0mDraw\u001b[0m \u001b[0mthe\u001b[0m \u001b[0mfigure\u001b[0m \u001b[0musing\u001b[0m \u001b[0mthe\u001b[0m \u001b[0mrenderer\u001b[0m\u001b[1;33m\u001b[0m\u001b[0m\n\u001b[0;32m    424\u001b[0m         \"\"\"\n\u001b[1;32m--> 425\u001b[1;33m         \u001b[0mself\u001b[0m\u001b[1;33m.\u001b[0m\u001b[0mrenderer\u001b[0m \u001b[1;33m=\u001b[0m \u001b[0mself\u001b[0m\u001b[1;33m.\u001b[0m\u001b[0mget_renderer\u001b[0m\u001b[1;33m(\u001b[0m\u001b[0mcleared\u001b[0m\u001b[1;33m=\u001b[0m\u001b[1;32mTrue\u001b[0m\u001b[1;33m)\u001b[0m\u001b[1;33m\u001b[0m\u001b[0m\n\u001b[0m\u001b[0;32m    426\u001b[0m         \u001b[1;31m# acquire a lock on the shared font cache\u001b[0m\u001b[1;33m\u001b[0m\u001b[1;33m\u001b[0m\u001b[0m\n\u001b[0;32m    427\u001b[0m         \u001b[0mRendererAgg\u001b[0m\u001b[1;33m.\u001b[0m\u001b[0mlock\u001b[0m\u001b[1;33m.\u001b[0m\u001b[0macquire\u001b[0m\u001b[1;33m(\u001b[0m\u001b[1;33m)\u001b[0m\u001b[1;33m\u001b[0m\u001b[0m\n",
      "\u001b[1;32m~\\AppData\\Local\\conda\\conda\\envs\\python37\\lib\\site-packages\\matplotlib\\backends\\backend_agg.py\u001b[0m in \u001b[0;36mget_renderer\u001b[1;34m(self, cleared)\u001b[0m\n\u001b[0;32m    448\u001b[0m \u001b[1;33m\u001b[0m\u001b[0m\n\u001b[0;32m    449\u001b[0m         \u001b[1;32mif\u001b[0m \u001b[0mneed_new_renderer\u001b[0m\u001b[1;33m:\u001b[0m\u001b[1;33m\u001b[0m\u001b[0m\n\u001b[1;32m--> 450\u001b[1;33m             \u001b[0mself\u001b[0m\u001b[1;33m.\u001b[0m\u001b[0mrenderer\u001b[0m \u001b[1;33m=\u001b[0m \u001b[0mRendererAgg\u001b[0m\u001b[1;33m(\u001b[0m\u001b[0mw\u001b[0m\u001b[1;33m,\u001b[0m \u001b[0mh\u001b[0m\u001b[1;33m,\u001b[0m \u001b[0mself\u001b[0m\u001b[1;33m.\u001b[0m\u001b[0mfigure\u001b[0m\u001b[1;33m.\u001b[0m\u001b[0mdpi\u001b[0m\u001b[1;33m)\u001b[0m\u001b[1;33m\u001b[0m\u001b[0m\n\u001b[0m\u001b[0;32m    451\u001b[0m             \u001b[0mself\u001b[0m\u001b[1;33m.\u001b[0m\u001b[0m_lastKey\u001b[0m \u001b[1;33m=\u001b[0m \u001b[0mkey\u001b[0m\u001b[1;33m\u001b[0m\u001b[0m\n\u001b[0;32m    452\u001b[0m         \u001b[1;32melif\u001b[0m \u001b[0mcleared\u001b[0m\u001b[1;33m:\u001b[0m\u001b[1;33m\u001b[0m\u001b[0m\n",
      "\u001b[1;32m~\\AppData\\Local\\conda\\conda\\envs\\python37\\lib\\site-packages\\matplotlib\\backends\\backend_agg.py\u001b[0m in \u001b[0;36m__init__\u001b[1;34m(self, width, height, dpi)\u001b[0m\n\u001b[0;32m     95\u001b[0m         \u001b[0mself\u001b[0m\u001b[1;33m.\u001b[0m\u001b[0mwidth\u001b[0m \u001b[1;33m=\u001b[0m \u001b[0mwidth\u001b[0m\u001b[1;33m\u001b[0m\u001b[0m\n\u001b[0;32m     96\u001b[0m         \u001b[0mself\u001b[0m\u001b[1;33m.\u001b[0m\u001b[0mheight\u001b[0m \u001b[1;33m=\u001b[0m \u001b[0mheight\u001b[0m\u001b[1;33m\u001b[0m\u001b[0m\n\u001b[1;32m---> 97\u001b[1;33m         \u001b[0mself\u001b[0m\u001b[1;33m.\u001b[0m\u001b[0m_renderer\u001b[0m \u001b[1;33m=\u001b[0m \u001b[0m_RendererAgg\u001b[0m\u001b[1;33m(\u001b[0m\u001b[0mint\u001b[0m\u001b[1;33m(\u001b[0m\u001b[0mwidth\u001b[0m\u001b[1;33m)\u001b[0m\u001b[1;33m,\u001b[0m \u001b[0mint\u001b[0m\u001b[1;33m(\u001b[0m\u001b[0mheight\u001b[0m\u001b[1;33m)\u001b[0m\u001b[1;33m,\u001b[0m \u001b[0mdpi\u001b[0m\u001b[1;33m)\u001b[0m\u001b[1;33m\u001b[0m\u001b[0m\n\u001b[0m\u001b[0;32m     98\u001b[0m         \u001b[0mself\u001b[0m\u001b[1;33m.\u001b[0m\u001b[0m_filter_renderers\u001b[0m \u001b[1;33m=\u001b[0m \u001b[1;33m[\u001b[0m\u001b[1;33m]\u001b[0m\u001b[1;33m\u001b[0m\u001b[0m\n\u001b[0;32m     99\u001b[0m \u001b[1;33m\u001b[0m\u001b[0m\n",
      "\u001b[1;31mValueError\u001b[0m: Image size of 471x944430 pixels is too large. It must be less than 2^16 in each direction."
     ]
    },
    {
     "data": {
      "text/plain": [
       "<Figure size 432x288 with 1 Axes>"
      ]
     },
     "metadata": {},
     "output_type": "display_data"
    }
   ],
   "source": [
    "def printhContyCrimeInfo(fips_st, fips_cty):\n",
    "    crime_info = crime_data_df.loc[(crime_data_df['FIPS_ST'] == fips_st) & (crime_data_df['FIPS_CTY'] == fips_cty)]\n",
    "    crime_info = crime_info[['State','County_name','crime_rate_per_100000','MURDER','RAPE','ROBBERY', 'AGASSLT', 'BURGLRY', \n",
    "                            'LARCENY','MVTHEFT', 'ARSON']]\n",
    "    crime_info.reset_index(drop = True, inplace = True)\n",
    "    \n",
    "    #print(crime_info)\n",
    "    #print(type(crime_info))\n",
    "    crime_details = {'Type of Crime': \n",
    "                     ['Murder', 'Rape', 'Robbery', 'Aggravated Assault', 'Burglary', 'Larceny', 'MV Theft', 'Arson'],\n",
    "                     'Number of Crimes': \n",
    "                     [crime_info.iat[0,3],crime_info.iat[0,4],crime_info.iat[0,5],crime_info.iat[0,6],crime_info.iat[0,7],\n",
    "                     crime_info.iat[0,8],crime_info.iat[0,9],crime_info.iat[0,10]]\n",
    "                    }\n",
    "    #print(crime_details)\n",
    "    y_axis = np.arange(len(crime_details['Type of Crime']))\n",
    "    x_axis = crime_details['Number of Crimes']\n",
    "    labels = crime_details['Type of Crime']\n",
    "    print(\"************************************************************\")\n",
    "    print(\"**                  CRIME PROFILE                         **\")\n",
    "    print(\"************************************************************\")\n",
    "    #print(f\"State : {crime_info.iat[0,1]}, County: {crime_info[0,0]}\")\n",
    "    \n",
    "    display(crime_info)\n",
    "    #print(labels)\n",
    "    \n",
    "    #set plot\n",
    "    fig, ax = plt.subplots()\n",
    "\n",
    "    ax.barh(y_axis,x_axis,color='b', alpha=0.5, align=\"center\" )\n",
    "    \n",
    "    # Tell matplotlib where we would like to place each of our x axis headers\n",
    "    tick_locations = [value for value in y_axis]\n",
    "    plt.yticks(tick_locations, labels)\n",
    "    \n",
    "    # Sets the x limits of the current chart\n",
    "    plt.ylim(-0.75, len(y_axis)-0.25)\n",
    "    # Sets the y limits of the current chart\n",
    "    plt.xlim(0, max(x_axis)+max(x_axis)*0.2)\n",
    "    \n",
    "    # Give our chart some labels and a tile\n",
    "    ax.set_title(\"Crime Profile\")\n",
    "    ax.set_ylabel(\"Type of Crime\")\n",
    "    ax.set_xlabel(\"Number of Crimes reported\")\n",
    "    plt.grid(axis = 'x')\n",
    "    \n",
    "    \n",
    "    #Loop through each bar and label the compound score against each bar\n",
    "    for i in range(0, len(x_axis)):\n",
    "        ax.text(tick_locations[i]-0.35, x_axis[i] + ylabelloc(x_axis), str(x_axis[i]), \n",
    "            color='blue', va='center', fontweight='bold')\n",
    "\n",
    "    \n",
    "printhContyCrimeInfo(6,1)\n",
    "     \n"
   ]
  },
  {
   "cell_type": "code",
   "execution_count": null,
   "metadata": {},
   "outputs": [],
   "source": [
    "top_20_crime_data = [crime_data_df.sort_values(by=['crime_rate_per_100000']).loc[crime_data_df['population'] >= crime_data_df['population'].median()].head(20),\n",
    "                crime_data_df.sort_values(by=['MURDER']).loc[crime_data_df['population'] >= crime_data_df['population'].median()].head(20),\n",
    "                crime_data_df.sort_values(by=['RAPE']).loc[crime_data_df['population'] >= crime_data_df['population'].median()].head(20),\n",
    "                crime_data_df.sort_values(by=['ROBBERY']).loc[crime_data_df['population'] >= crime_data_df['population'].median()].head(20),\n",
    "                crime_data_df.sort_values(by=['AGASSLT']).loc[crime_data_df['population'] >= crime_data_df['population'].median()].head(20),\n",
    "                crime_data_df.sort_values(by=['BURGLRY']).loc[crime_data_df['population'] >= crime_data_df['population'].median()].head(20),\n",
    "                crime_data_df.sort_values(by=['LARCENY']).loc[crime_data_df['population'] >= crime_data_df['population'].median()].head(20),\n",
    "                crime_data_df.sort_values(by=['MVTHEFT']).loc[crime_data_df['population'] >= crime_data_df['population'].median()].head(20),\n",
    "                crime_data_df.sort_values(by=['ARSON']).loc[crime_data_df['population'] >= crime_data_df['population'].median()].head(20)  \n",
    "               ]\n",
    "crime_data_safe_county = reduce(lambda left,right: pd.merge(left,right,on=['FIPS_ST','FIPS_CTY']), top_20_crime_data)\n",
    "df = crime_data_safe_county.sort_values(by=['MURDER','RAPE','ROBBERY','AGASSLT','BURGLRY','LARCENY','MVTHEFT','ARSON'])\n",
    "df.head()"
   ]
  },
  {
   "cell_type": "code",
   "execution_count": null,
   "metadata": {},
   "outputs": [],
   "source": [
    "crime_data_df = crime_data_df.sort_values(by=['crime_rate_per_100000'])\n",
    "print(crime_data_df['population'].median())\n",
    "\n",
    "crime_data_df.loc[crime_data_df['population'] >= crime_data_df['population'].median()].head(5)"
   ]
  },
  {
   "cell_type": "code",
   "execution_count": null,
   "metadata": {},
   "outputs": [],
   "source": [
    "crime_data_df = crime_data_df.sort_values(by=['MURDER'])\n",
    "print(crime_data_df['population'].median())\n",
    "\n",
    "crime_data_df.loc[crime_data_df['population'] >= crime_data_df['population'].median()].head(5)"
   ]
  },
  {
   "cell_type": "code",
   "execution_count": null,
   "metadata": {},
   "outputs": [],
   "source": [
    "crime_data_df = crime_data_df.sort_values(by=['RAPE'])\n",
    "print(crime_data_df['population'].median())\n",
    "\n",
    "crime_data_df.loc[crime_data_df['population'] >= crime_data_df['population'].median()].head(5)"
   ]
  },
  {
   "cell_type": "code",
   "execution_count": null,
   "metadata": {},
   "outputs": [],
   "source": [
    "crime_data_df = crime_data_df.sort_values(by=['ROBBERY'])\n",
    "print(crime_data_df['population'].median())\n",
    "\n",
    "crime_data_df.loc[crime_data_df['population'] >= crime_data_df['population'].median()].head(5)"
   ]
  },
  {
   "cell_type": "code",
   "execution_count": null,
   "metadata": {},
   "outputs": [],
   "source": [
    "#read housing prices from 2015 to 2018\n",
    "hprice_data_df = pd.read_csv(housingPriceFile, encoding=\"ISO-8859-1\")\n",
    "hprice_data_df.columns.str.strip()\n",
    "hprice_data_df.columns.str.title()\n",
    "hprice_data_df.head()"
   ]
  },
  {
   "cell_type": "code",
   "execution_count": null,
   "metadata": {},
   "outputs": [],
   "source": [
    "# aggregating based on state and county since crime data is available only at that level\n",
    "#hprice_data_df = hprice_data_df.groupby([\"State\",\"CountyName\"],as_index = False).mean()\n",
    "hprice_data_df.head()"
   ]
  },
  {
   "cell_type": "code",
   "execution_count": null,
   "metadata": {},
   "outputs": [],
   "source": [
    "# creating temp dictionary to hold county name, state and houseprice\n",
    "temp = {'FIPS_CTY': hprice_data_df['FIPS_CTY'],\n",
    "       'FIPS_ST' : hprice_data_df['FIPS_ST'],\n",
    "       'House Price per sqft': hprice_data_df.mean(axis=1).round(2)}\n",
    "#assigning housing price to dataframe\n",
    "hpricedf = pd.DataFrame(temp)\n",
    "hpricedf.sort_values(['FIPS_ST','FIPS_CTY'],inplace=True)\n",
    "\n",
    "hpricedf.head(20)"
   ]
  },
  {
   "cell_type": "code",
   "execution_count": null,
   "metadata": {},
   "outputs": [],
   "source": [
    "# Merge two dataframes using an inner join\n",
    "merge_table = pd.merge(crime_data_df, hpricedf, left_on=[\"FIPS_ST\",\"FIPS_CTY\"], right_on=[\"FIPS_ST\",\"FIPS_CTY\"],how='inner',\n",
    "                      suffixes = ('_crime','_price'))\n",
    "merge_table.head()\n",
    "merge_table."
   ]
  },
  {
   "cell_type": "code",
   "execution_count": null,
   "metadata": {},
   "outputs": [],
   "source": [
    "plt.scatter(merge_table['crime_rate_per_100000'], merge_table['House Price per sqft'], marker=\"o\", facecolors=\"red\", edgecolors=\"black\",\n",
    "            s=60, alpha=0.75)\n",
    "plt.grid()\n",
    "plt.show()"
   ]
  },
  {
   "cell_type": "code",
   "execution_count": null,
   "metadata": {},
   "outputs": [],
   "source": [
    "plt.scatter(merge_table['MURDER'], merge_table['House Price per sqft'], marker=\"o\", facecolors=\"red\", edgecolors=\"black\",\n",
    "            s=60, alpha=0.75)\n",
    "plt.grid()\n",
    "plt.show()"
   ]
  },
  {
   "cell_type": "code",
   "execution_count": null,
   "metadata": {},
   "outputs": [],
   "source": [
    "plt.scatter(merge_table['RAPE'], merge_table['House Price per sqft'], marker=\"o\", facecolors=\"red\", edgecolors=\"black\",\n",
    "            s=60, alpha=0.75)\n",
    "plt.grid()\n",
    "plt.show()\n"
   ]
  },
  {
   "cell_type": "code",
   "execution_count": null,
   "metadata": {},
   "outputs": [],
   "source": []
  }
 ],
 "metadata": {
  "kernelspec": {
   "display_name": "Python [conda env:python37]",
   "language": "python",
   "name": "conda-env-python37-py"
  },
  "language_info": {
   "codemirror_mode": {
    "name": "ipython",
    "version": 3
   },
   "file_extension": ".py",
   "mimetype": "text/x-python",
   "name": "python",
   "nbconvert_exporter": "python",
   "pygments_lexer": "ipython3",
   "version": "3.6.6"
  }
 },
 "nbformat": 4,
 "nbformat_minor": 2
}
