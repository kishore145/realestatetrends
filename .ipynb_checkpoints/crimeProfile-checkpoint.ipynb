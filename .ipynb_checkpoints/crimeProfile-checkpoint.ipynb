{
 "cells": [
  {
   "cell_type": "code",
   "execution_count": 1,
   "metadata": {},
   "outputs": [],
   "source": [
    "# Dependencies\n",
    "import pandas as pd\n",
    "import numpy as np\n",
    "import matplotlib.pyplot as plt\n",
    "from functools import reduce\n",
    "from IPython.display import display\n",
    "\n",
    "\n",
    "pd.options.display.max_columns = None"
   ]
  },
  {
   "cell_type": "code",
   "execution_count": 2,
   "metadata": {},
   "outputs": [],
   "source": [
    "# Store filepath in a variable\n",
    "crimeDataFile = \"Raw Data/Try Data/crimedata.csv\"\n",
    "housingPriceFile = \"Raw Data/Try Data/Zip_MedianValue-2016-AllHomes.csv\""
   ]
  },
  {
   "cell_type": "code",
   "execution_count": 3,
   "metadata": {},
   "outputs": [],
   "source": [
    "# Read our Data file with the pandas library\n",
    "# Not every CSV requires an encoding, but be aware this can come up\n",
    "crime_data_df = pd.read_csv(crimeDataFile, encoding=\"ISO-8859-1\")\n",
    "price_data_city_df = pd.read_csv(housingPriceFile, encoding=\"ISO-8859-1\")\n",
    "#crime_data_df.head(3)"
   ]
  },
  {
   "cell_type": "code",
   "execution_count": 4,
   "metadata": {},
   "outputs": [],
   "source": [
    "#price_data_city_df.columns.get_values()\n",
    "#price_data_city_df.head()"
   ]
  },
  {
   "cell_type": "code",
   "execution_count": 5,
   "metadata": {},
   "outputs": [],
   "source": [
    "#price_data_city_df[price_data_city_df.columns[23:]].replace('[\\$,]', '',  regex=True).astype(int)\n",
    "#price_data_city_df.head()\n",
    "\n"
   ]
  },
  {
   "cell_type": "code",
   "execution_count": 6,
   "metadata": {},
   "outputs": [
    {
     "data": {
      "text/plain": [
       "Index(['County_Name', 'State', 'Crime_Rate_Per_100000', 'Index', 'Edition',\n",
       "       'Part', 'Idno', 'Cpoparst', 'Cpopcrim', 'Ag_Arrst', 'Ag_Off', 'Covind',\n",
       "       'Index', 'Modindx', 'Murder', 'Rape', 'Robbery', 'Agasslt', 'Burglry',\n",
       "       'Larceny', 'Mvtheft', 'Arson', 'Population', 'Fips_St', 'Fips_Cty',\n",
       "       'Fips_Cd'],\n",
       "      dtype='object')"
      ]
     },
     "execution_count": 6,
     "metadata": {},
     "output_type": "execute_result"
    }
   ],
   "source": [
    "crime_data_df = crime_data_df.sort_values(by=['State','County_name'])\n",
    "crime_data_df.columns.str.strip()\n",
    "crime_data_df.columns.str.title()\n",
    "\n",
    "\n",
    "#crime_data_df.head(3)"
   ]
  },
  {
   "cell_type": "code",
   "execution_count": 7,
   "metadata": {},
   "outputs": [],
   "source": [
    "# define a function for finding optimal location for bar height values\n",
    "def ylabelloc(yaxis):\n",
    "    return (max(yaxis)*0.03)"
   ]
  },
  {
   "cell_type": "code",
   "execution_count": 8,
   "metadata": {},
   "outputs": [],
   "source": [
    "def printContyCrimeInfo(fips_st, fips_cty):\n",
    "    crime_info = crime_data_df.loc[(crime_data_df['FIPS_ST'] == fips_st) & (crime_data_df['FIPS_CTY'] == fips_cty)]\n",
    "    crime_info = crime_info[['State','County_name','crime_rate_per_100000','MURDER','RAPE','ROBBERY', 'AGASSLT', 'BURGLRY', \n",
    "                            'LARCENY','MVTHEFT', 'ARSON']]\n",
    "    crime_info.reset_index(drop = True, inplace = True)\n",
    "    \n",
    "    #print(crime_info)\n",
    "    #print(type(crime_info))\n",
    "    crime_details = {'Type of Crime': \n",
    "                     ['Murder', 'Rape', 'Robbery', 'Aggravated Assault', 'Burglary', 'Larceny', 'MV Theft', 'Arson'],\n",
    "                     'Number of Crimes': \n",
    "                     [crime_info.iat[0,3],crime_info.iat[0,4],crime_info.iat[0,5],crime_info.iat[0,6],crime_info.iat[0,7],\n",
    "                     crime_info.iat[0,8],crime_info.iat[0,9],crime_info.iat[0,10]]\n",
    "                    }\n",
    "    #print(crime_details)\n",
    "    x_axis = np.arange(len(crime_details['Type of Crime']))\n",
    "    y_axis = crime_details['Number of Crimes']\n",
    "    labels = crime_details['Type of Crime']\n",
    "    print(\"************************************************************\")\n",
    "    print(\"**                  CRIME PROFILE                         **\")\n",
    "    print(\"************************************************************\")\n",
    "    #print(f\"State : {crime_info.iat[0,1]}, County: {crime_info[0,0]}\")\n",
    "    \n",
    "    display(crime_info)\n",
    "    #print(labels)\n",
    "    \n",
    "    #set plot\n",
    "    fig, ax = plt.subplots()\n",
    "\n",
    "    ax.bar(x_axis,y_axis,color='b', alpha=0.5, align=\"center\" )\n",
    "    \n",
    "    # Tell matplotlib where we would like to place each of our x axis headers\n",
    "    tick_locations = [value for value in x_axis]\n",
    "    plt.xticks(tick_locations, labels,  rotation = 90)\n",
    "    \n",
    "    # Sets the x limits of the current chart\n",
    "    plt.xlim(-0.75, len(x_axis)-0.25)\n",
    "    # Sets the y limits of the current chart\n",
    "    plt.ylim(0, max(y_axis)+max(y_axis)*0.2)\n",
    "    \n",
    "    # Give our chart some labels and a tile\n",
    "    ax.set_title(\"Crime Profile\")\n",
    "    ax.set_xlabel(\"Type of Crime\")\n",
    "    ax.set_ylabel(\"Number of Crimes reported\")\n",
    "    plt.grid(axis = 'y')\n",
    "    \n",
    "    \n",
    "    #Loop through each bar and label the compound score against each bar\n",
    "    for i in range(0, len(x_axis)):\n",
    "        ax.text(tick_locations[i]-0.35, y_axis[i] + ylabelloc(y_axis), str(y_axis[i]), \n",
    "            color='blue', va='center', fontweight='bold')\n",
    "   \n",
    "\n",
    "    \n",
    "\n",
    "    \n",
    "#printContyCrimeInfo(6,1)\n"
   ]
  },
  {
   "cell_type": "code",
   "execution_count": 9,
   "metadata": {},
   "outputs": [],
   "source": [
    "def printDetails(fips_cd):\n",
    "    housing_details_df = summary_data_df.loc[summary_data_df['FIPS_CD'] == fips_cd]\n",
    "    #print(housing_details_df.columns.get_values())\n",
    "    housing_details_df = housing_details_df[['FIPS_ST','FIPS_CTY','State','County_name','Affordability Index',\n",
    "                                            ' Average Home Value sqf for 2016 ','Average Home Value [Average New Home Size 2491sq]',\n",
    "                                            'Average Home Value [Average Old Home Size 1660sq]']]\n",
    "    \n",
    "    #formatting price to dollars\n",
    "    housing_details_df[' Average Home Value sqf for 2016 '] = housing_details_df[' Average Home Value sqf for 2016 '].map('${:,.2f}'.format)\n",
    "    housing_details_df['Average Home Value [Average New Home Size 2491sq]'] = housing_details_df['Average Home Value [Average New Home Size 2491sq]'].map('${:,.2f}'.format)\n",
    "    housing_details_df['Average Home Value [Average Old Home Size 1660sq]'] = housing_details_df['Average Home Value [Average Old Home Size 1660sq]'].map('${:,.2f}'.format)\n",
    "    \n",
    "    print(\"\\n\\n\")\n",
    "    print(\"************************************************************\")\n",
    "    print(\"**                  Housing Market                        **\")\n",
    "    print(\"************************************************************\")\n",
    "    \n",
    "    \n",
    "    display(housing_details_df)\n",
    "    \n",
    "    print(\"\\n\\n\")\n",
    "    printContyCrimeInfo(housing_details_df.iat[0,0],housing_details_df.iat[0,1])\n",
    "    \n",
    "    print(\"\\n\\n\")\n",
    "    \n",
    "#printDetails(6001)\n"
   ]
  },
  {
   "cell_type": "code",
   "execution_count": 10,
   "metadata": {},
   "outputs": [],
   "source": [
    "#trying bqplot\n",
    "from bqplot import pyplot as bplt\n",
    "from bqplot import *\n",
    "from ipywidgets import Layout"
   ]
  },
  {
   "cell_type": "code",
   "execution_count": null,
   "metadata": {},
   "outputs": [],
   "source": []
  },
  {
   "cell_type": "code",
   "execution_count": null,
   "metadata": {},
   "outputs": [],
   "source": []
  },
  {
   "cell_type": "code",
   "execution_count": 11,
   "metadata": {},
   "outputs": [],
   "source": [
    "df = crime_data_df"
   ]
  },
  {
   "cell_type": "code",
   "execution_count": 12,
   "metadata": {},
   "outputs": [],
   "source": [
    "price_data_df = price_data_city_df.groupby(['FIPS State','FIPS County'], as_index = False).mean().round(0)\n",
    "price_data_df['FIPS_CD'] = price_data_df['FIPS_CD'].astype(int)\n",
    "#price_data_df.head()\n"
   ]
  },
  {
   "cell_type": "code",
   "execution_count": 13,
   "metadata": {},
   "outputs": [],
   "source": [
    "summary_data_df = price_data_df.merge(df,how = 'inner', on = ['FIPS_CD'])"
   ]
  },
  {
   "cell_type": "code",
   "execution_count": 14,
   "metadata": {},
   "outputs": [],
   "source": [
    "#summary_data_df.head()"
   ]
  },
  {
   "cell_type": "code",
   "execution_count": 15,
   "metadata": {},
   "outputs": [],
   "source": [
    "map_fig = bplt.figure(title = 'Home Affordability')\n",
    "map_tt = Tooltip(fields=['name','color'],labels =['County Name', 'Affordability Index'])\n",
    "map_res = bplt.geo(map_data = 'USCountiesMap',stroke_color ='black',\n",
    "                   interactions={'click': 'select', 'hover': 'tooltip','lasso_sel': 'panzoom'},\n",
    "                 colors = {'default_color': 'Black'},\n",
    "                    scales = {'projection' : AlbersUSA(),\n",
    "                             'color' : ColorScale(colors=['Red','Gray','Blue'])},\n",
    "                  color = dict(zip(summary_data_df['FIPS_CD'], summary_data_df['Affordability Index'])),tooltip=map_tt)"
   ]
  },
  {
   "cell_type": "code",
   "execution_count": 16,
   "metadata": {},
   "outputs": [
    {
     "data": {
      "application/vnd.jupyter.widget-view+json": {
       "model_id": "ad7c21ee05a441e09a13e238d8b0742b",
       "version_major": 2,
       "version_minor": 0
      },
      "text/plain": [
       "Figure(axes=[ColorAxis(scale=ColorScale(colors=['Red', 'Gray', 'Blue']))], fig_margin={'top': 60, 'bottom': 60…"
      ]
     },
     "metadata": {},
     "output_type": "display_data"
    }
   ],
   "source": [
    "map_fig\n"
   ]
  },
  {
   "cell_type": "code",
   "execution_count": 19,
   "metadata": {},
   "outputs": [
    {
     "name": "stdout",
     "output_type": "stream",
     "text": [
      "\n",
      "\n",
      "\n",
      "************************************************************\n",
      "**                  Housing Market                        **\n",
      "************************************************************\n"
     ]
    },
    {
     "data": {
      "text/html": [
       "<div>\n",
       "<style scoped>\n",
       "    .dataframe tbody tr th:only-of-type {\n",
       "        vertical-align: middle;\n",
       "    }\n",
       "\n",
       "    .dataframe tbody tr th {\n",
       "        vertical-align: top;\n",
       "    }\n",
       "\n",
       "    .dataframe thead th {\n",
       "        text-align: right;\n",
       "    }\n",
       "</style>\n",
       "<table border=\"1\" class=\"dataframe\">\n",
       "  <thead>\n",
       "    <tr style=\"text-align: right;\">\n",
       "      <th></th>\n",
       "      <th>FIPS_ST</th>\n",
       "      <th>FIPS_CTY</th>\n",
       "      <th>State</th>\n",
       "      <th>County_name</th>\n",
       "      <th>Affordability Index</th>\n",
       "      <th>Average Home Value sqf for 2016</th>\n",
       "      <th>Average Home Value [Average New Home Size 2491sq]</th>\n",
       "      <th>Average Home Value [Average Old Home Size 1660sq]</th>\n",
       "    </tr>\n",
       "  </thead>\n",
       "  <tbody>\n",
       "    <tr>\n",
       "      <th>34</th>\n",
       "      <td>6</td>\n",
       "      <td>83</td>\n",
       "      <td>CA</td>\n",
       "      <td>Santa Barbara</td>\n",
       "      <td>21.0</td>\n",
       "      <td>$471.00</td>\n",
       "      <td>$1,173,953.00</td>\n",
       "      <td>$782,321.00</td>\n",
       "    </tr>\n",
       "  </tbody>\n",
       "</table>\n",
       "</div>"
      ],
      "text/plain": [
       "    FIPS_ST  FIPS_CTY State     County_name  Affordability Index  \\\n",
       "34        6        83    CA  Santa Barbara                  21.0   \n",
       "\n",
       "    Average Home Value sqf for 2016   \\\n",
       "34                           $471.00   \n",
       "\n",
       "   Average Home Value [Average New Home Size 2491sq]  \\\n",
       "34                                     $1,173,953.00   \n",
       "\n",
       "   Average Home Value [Average Old Home Size 1660sq]  \n",
       "34                                       $782,321.00  "
      ]
     },
     "metadata": {},
     "output_type": "display_data"
    },
    {
     "name": "stdout",
     "output_type": "stream",
     "text": [
      "\n",
      "\n",
      "\n",
      "************************************************************\n",
      "**                  CRIME PROFILE                         **\n",
      "************************************************************\n"
     ]
    },
    {
     "data": {
      "text/html": [
       "<div>\n",
       "<style scoped>\n",
       "    .dataframe tbody tr th:only-of-type {\n",
       "        vertical-align: middle;\n",
       "    }\n",
       "\n",
       "    .dataframe tbody tr th {\n",
       "        vertical-align: top;\n",
       "    }\n",
       "\n",
       "    .dataframe thead th {\n",
       "        text-align: right;\n",
       "    }\n",
       "</style>\n",
       "<table border=\"1\" class=\"dataframe\">\n",
       "  <thead>\n",
       "    <tr style=\"text-align: right;\">\n",
       "      <th></th>\n",
       "      <th>State</th>\n",
       "      <th>County_name</th>\n",
       "      <th>crime_rate_per_100000</th>\n",
       "      <th>MURDER</th>\n",
       "      <th>RAPE</th>\n",
       "      <th>ROBBERY</th>\n",
       "      <th>AGASSLT</th>\n",
       "      <th>BURGLRY</th>\n",
       "      <th>LARCENY</th>\n",
       "      <th>MVTHEFT</th>\n",
       "      <th>ARSON</th>\n",
       "    </tr>\n",
       "  </thead>\n",
       "  <tbody>\n",
       "    <tr>\n",
       "      <th>0</th>\n",
       "      <td>CA</td>\n",
       "      <td>Santa Barbara</td>\n",
       "      <td>377.096927</td>\n",
       "      <td>6</td>\n",
       "      <td>146</td>\n",
       "      <td>311</td>\n",
       "      <td>1180</td>\n",
       "      <td>2430</td>\n",
       "      <td>6933</td>\n",
       "      <td>801</td>\n",
       "      <td>54</td>\n",
       "    </tr>\n",
       "  </tbody>\n",
       "</table>\n",
       "</div>"
      ],
      "text/plain": [
       "  State     County_name  crime_rate_per_100000  MURDER  RAPE  ROBBERY  \\\n",
       "0    CA  Santa Barbara              377.096927       6   146      311   \n",
       "\n",
       "   AGASSLT  BURGLRY  LARCENY  MVTHEFT  ARSON  \n",
       "0     1180     2430     6933      801     54  "
      ]
     },
     "metadata": {},
     "output_type": "display_data"
    },
    {
     "name": "stdout",
     "output_type": "stream",
     "text": [
      "\n",
      "\n",
      "\n"
     ]
    },
    {
     "data": {
      "image/png": "[encoded data removed]",
      "text/plain": [
       "<Figure size 432x288 with 1 Axes>"
      ]
     },
     "metadata": {},
     "output_type": "display_data"
    }
   ],
   "source": [
    "# clicking on any county will update the 'selected' attribute of map_mark.\n",
    "# Use the same to obtain the details of the county. \n",
    "if(map_res.selected !=[]):\n",
    "    printDetails(map_res.selected[-1])"
   ]
  },
  {
   "cell_type": "code",
   "execution_count": null,
   "metadata": {},
   "outputs": [],
   "source": []
  }
 ],
 "metadata": {
  "kernelspec": {
   "display_name": "Python [conda env:python37]",
   "language": "python",
   "name": "conda-env-python37-py"
  },
  "language_info": {
   "codemirror_mode": {
    "name": "ipython",
    "version": 3
   },
   "file_extension": ".py",
   "mimetype": "text/x-python",
   "name": "python",
   "nbconvert_exporter": "python",
   "pygments_lexer": "ipython3",
   "version": "3.6.6"
  }
 },
 "nbformat": 4,
 "nbformat_minor": 2
}
